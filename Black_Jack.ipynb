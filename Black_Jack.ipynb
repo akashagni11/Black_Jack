{
 "cells": [
  {
   "cell_type": "code",
   "execution_count": 1,
   "metadata": {},
   "outputs": [],
   "source": [
    "###########imports\n",
    "import numpy as np\n",
    "from numpy import random"
   ]
  },
  {
   "cell_type": "code",
   "execution_count": 2,
   "metadata": {},
   "outputs": [],
   "source": [
    "############\n",
    "def input_name():\n",
    "    print(\"Hello Player!! Enter your name:\")\n",
    "    player_name=raw_input()\n",
    "    print(\"Welcome %s, I am the dealer of the BlackJack.\\nLet's begin!! \"%player_name)\n",
    "    #return player_name"
   ]
  },
  {
   "cell_type": "code",
   "execution_count": 3,
   "metadata": {},
   "outputs": [],
   "source": [
    "############\n",
    "class Player_profile(object):\n",
    "    def __init__(self,bankroll=100):\n",
    "        self.bankroll=bankroll\n",
    "    \n",
    "    def win(self,bet):\n",
    "        self.bankroll=self.bankroll+(1.5)*bet\n",
    "        print(\"You currently have %s in your bank\"%self.bankroll)\n",
    "    \n",
    "    def loss(self,bet):\n",
    "        self.bankroll=self.bankroll-bet\n",
    "        if (self.bankroll<0):\n",
    "            self.bankroll=-(1.0)*self.bankroll\n",
    "            print(\"You are in debt of %s Be mindful of your next bet\"%(self.bankroll))\n",
    "        else:\n",
    "            print(\"You currently have %s in your bank\"%self.bankroll)"
   ]
  },
  {
   "cell_type": "code",
   "execution_count": 4,
   "metadata": {},
   "outputs": [],
   "source": [
    "player_name=Player_profile()"
   ]
  },
  {
   "cell_type": "code",
   "execution_count": 5,
   "metadata": {},
   "outputs": [
    {
     "data": {
      "text/plain": [
       "100"
      ]
     },
     "execution_count": 5,
     "metadata": {},
     "output_type": "execute_result"
    }
   ],
   "source": [
    "player_name.bankroll"
   ]
  },
  {
   "cell_type": "code",
   "execution_count": 7,
   "metadata": {},
   "outputs": [
    {
     "name": "stdout",
     "output_type": "stream",
     "text": [
      "You are in debt of 20.0 Be mindful of your next bet\n"
     ]
    }
   ],
   "source": [
    "player_name.loss(120)"
   ]
  },
  {
   "cell_type": "code",
   "execution_count": 92,
   "metadata": {},
   "outputs": [],
   "source": [
    "##########initialisations\n",
    "cards=['Ace of Spades','2 of Spades','3 of Spades','4 of Spades','5 of Spades','6 of Spades','7 of Spades','8 of Spades','9 of Spades','10 of Spades','Jack of Spades','Queen of Spades','King of spades','Ace of Diamond','2 of Diamond','3 of Diamond','4 of Diamond','5 of Diamond','6 of Diamond','7 of Diamond','8 of Diamond','9 of Diamond','10 of Diamond','Jack of Diamond','Queen of Diamond','King of Diamond','Ace of Hearts','2 of Hearts','3 of Hearts','4 of Hearts','5 of Hearts','6 of Hearts','7 of Hearts','8 of Hearts','9 of Hearts','10 of Hearts','Jack of Hearts','Queen of Hearts','King of Hearts','Ace of Club','2 of Club','3 of Club','4 of Club','5 of Club','6 of Club','7 of Club','8 of Club','9 of Club','10 of Club','Jack of Club','Queen of Club','King of Club']\n",
    "bet=0"
   ]
  },
  {
   "cell_type": "code",
   "execution_count": 11,
   "metadata": {},
   "outputs": [],
   "source": [
    "############pre_process\n",
    "cards=['Ace of Spades','2 of Spades','3 of Spades','4 of Spades','5 of Spades','6 of Spades','7 of Spades','8 of Spades','9 of Spades','10 of Spades','Jack of Spades','Queen of Spades','King of spades','Ace of Diamond','2 of Diamond','3 of Diamond','4 of Diamond','5 of Diamond','6 of Diamond','7 of Diamond','8 of Diamond','9 of Diamond','10 of Diamond','Jack of Diamond','Queen of Diamond','King of Diamond','Ace of Hearts','2 of Hearts','3 of Hearts','4 of Hearts','5 of Hearts','6 of Hearts','7 of Hearts','8 of Hearts','9 of Hearts','10 of Hearts','Jack of Hearts','Queen of Hearts','King of Hearts','Ace of Club','2 of Club','3 of Club','4 of Club','5 of Club','6 of Club','7 of Club','8 of Club','9 of Club','10 of Club','Jack of Club','Queen of Club','King of Club']\n",
    "bet=0\n",
    "def pre_process(cards):\n",
    "    bet=raw_input(\"How much are you willing to bet: \")\n",
    "    try:\n",
    "        bet=int(bet)\n",
    "    except:\n",
    "        print(\"Invalid Input\")\n",
    "    temp_cards=cards\n",
    "    dealer_cards=[]\n",
    "    final_dealer_sum=0\n",
    "    player_cards=[]\n",
    "    player_sum=0\n",
    "    for i in range(0,3):\n",
    "        card=random.choice(temp_cards)\n",
    "        #print(card)\n",
    "        #print(len(temp_cards))\n",
    "        #print(len(cards))\n",
    "        dealer_cards.append(card)\n",
    "        temp_cards.remove(card)\n",
    "        #print(dealer_cards)\n",
    "    try:\n",
    "        len(temp_cards)==49\n",
    "        #print(\"Everything Alright Bro\")\n",
    "    except:\n",
    "        print(\"Something's Wrong\")\n",
    "    #print(len(cards))\n",
    "    #print(len(temp_cards))\n",
    "    for i in range(0,2):\n",
    "        card=random.choice(temp_cards)\n",
    "        #print(card)\n",
    "        #print(len(temp_cards))\n",
    "        #print(len(cards))\n",
    "        player_cards.append(card)\n",
    "        temp_cards.remove(card)\n",
    "        #print(dealer_cards)\n",
    "    try:\n",
    "        len(temp_cards)==47\n",
    "        #print(\"Everything Alright Bro\")\n",
    "    except:\n",
    "        print(\"Something's Wrong\")\n",
    "    #print(dealer_cards)\n",
    "    print(\"Dealer has taken his cards\")\n",
    "    #print(player_cards)\n",
    "    print(\"Your cards are:\\n%s\\n%s\"%(player_cards[0],player_cards[1]))\n",
    "    for card in dealer_cards:\n",
    "        card_split=card.split()\n",
    "        try:\n",
    "            final_dealer_sum=final_dealer_sum+int(card_split[0])\n",
    "        except:\n",
    "            if card_split[0]=='Jack' or card_split[0]=='Queen' or card_split[0]=='King':\n",
    "                card_int=10\n",
    "                final_dealer_sum=final_dealer_sum+card_int\n",
    "            elif card_split[0]=='Ace' and player_sum>21:\n",
    "                card_int=1\n",
    "                final_dealer_sum=final_dealer_sum+card_int\n",
    "            elif card_split[0]=='Ace':\n",
    "                card_int=11\n",
    "                final_dealer_sum=final_dealer_sum+card_int\n",
    "    for card in dealer_cards:\n",
    "        card_split=card.split()\n",
    "        if card_split[0]=='Ace' and final_dealer_sum>21:\n",
    "            final_dealer_sum=final_dealer_sum-10\n",
    "    #print(final_dealer_sum)\n",
    "    for card in player_cards:\n",
    "        card_split=card.split()\n",
    "        try:\n",
    "            card_int=int(card_split[0])\n",
    "            player_sum=player_sum+card_int\n",
    "        except:\n",
    "            if card_split[0]=='Jack' or card_split[0]=='Queen' or card_split[0]=='King':\n",
    "                card_int=10\n",
    "                player_sum=player_sum+card_int\n",
    "            elif card_split[0]=='Ace' and player_sum>21:\n",
    "                card_int=1\n",
    "                player_sum=player_sum+card_int\n",
    "            elif card_split[0]=='Ace':\n",
    "                card_int=11\n",
    "                player_sum=player_sum+card_int\n",
    "    for card in player_cards:\n",
    "        card_split=card.split()\n",
    "        if card_split[0]=='Ace' and player_sum>21:\n",
    "            player_sum=player_sum-10\n",
    "    #print(player_sum)\n",
    "    while(True):\n",
    "        hit_or_stand=raw_input(\"Would you like to Hit or Stand: \")#.islower()\n",
    "        if hit_or_stand=='Hit':\n",
    "            card=random.choice(temp_cards)\n",
    "            print(\"You have got %s\"%(card))\n",
    "            player_cards.append(card)\n",
    "            card_split=card.split()\n",
    "            try:\n",
    "                player_sum=player_sum+int(card_split[0])\n",
    "            except:   \n",
    "                if card_split[0]=='Jack' or card_split[0]=='Queen' or card_split[0]=='King':\n",
    "                    card_int=10\n",
    "                    player_sum=player_sum+card_int\n",
    "                if card_split[0]=='Ace' and player_sum>21:\n",
    "                    card_int=1\n",
    "                    player_sum=player_sum+card_int\n",
    "                elif card_split[0]=='Ace':\n",
    "                    card_int=11\n",
    "                    player_sum=player_sum+card_int\n",
    "            temp_cards.remove(card)\n",
    "            for card in player_cards:\n",
    "                card_split=card.split()\n",
    "                if card_split[0]=='Ace' and player_sum>21:\n",
    "                    player_sum=player_sum-10\n",
    "            if player_sum>21:\n",
    "                print(\"Ohhh!! It's a Bust, Better luck next time\")\n",
    "                break\n",
    "        elif hit_or_stand=='Stand':\n",
    "                print(\"Your current cards are:\")\n",
    "                for card in player_cards:\n",
    "                    print(card)\n",
    "                print(\"Dealer cards are: \")\n",
    "                for card in dealer_cards:\n",
    "                    print(card)\n",
    "                print(\"And final sum of Player is=%f\"%(player_sum))\n",
    "                print(\"And final sum of Dealer is=%f\"%(final_dealer_sum))\n",
    "                if player_sum>final_dealer_sum and final_dealer_sum<21:\n",
    "                    print(\"Congratulations!! You have won this round\")\n",
    "                    player_name.win(bet)\n",
    "                    break\n",
    "                elif player_sum==final_dealer_sum:\n",
    "                    print(\"It's a draw\")\n",
    "                    break\n",
    "                else:\n",
    "                    print(\"You Lose\")\n",
    "                    player_name.loss(bet)\n",
    "                    break\n",
    "\n",
    "cards=['Ace of Spades','2 of Spades','3 of Spades','4 of Spades','5 of Spades','6 of Spades','7 of Spades','8 of Spades','9 of Spades','10 of Spades','Jack of Spades','Queen of Spades','King of spades','Ace of Diamond','2 of Diamond','3 of Diamond','4 of Diamond','5 of Diamond','6 of Diamond','7 of Diamond','8 of Diamond','9 of Diamond','10 of Diamond','Jack of Diamond','Queen of Diamond','King of Diamond','Ace of Hearts','2 of Hearts','3 of Hearts','4 of Hearts','5 of Hearts','6 of Hearts','7 of Hearts','8 of Hearts','9 of Hearts','10 of Hearts','Jack of Hearts','Queen of Hearts','King of Hearts','Ace of Club','2 of Club','3 of Club','4 of Club','5 of Club','6 of Club','7 of Club','8 of Club','9 of Club','10 of Club','Jack of Club','Queen of Club','King of Club']\n",
    "bet=0"
   ]
  },
  {
   "cell_type": "code",
   "execution_count": 12,
   "metadata": {},
   "outputs": [
    {
     "name": "stdout",
     "output_type": "stream",
     "text": [
      "How much are you willing to bet: 50\n",
      "Dealer has taken his cards\n",
      "Your cards are:\n",
      "6 of Spades\n",
      "Ace of Club\n",
      "Would you like to Hit or Stand: Stand\n",
      "Your current cards are:\n",
      "6 of Spades\n",
      "Ace of Club\n",
      "Dealer cards are: \n",
      "8 of Spades\n",
      "7 of Diamond\n",
      "5 of Spades\n",
      "And final sum of <__main__.Player_profile object at 0x7f5c772337d0>=17.000000\n",
      "And final sum of Dealer is=20.000000\n",
      "You Lose\n",
      "You currently have 95.0 in your bank\n"
     ]
    }
   ],
   "source": [
    "pre_process(cards)"
   ]
  },
  {
   "cell_type": "code",
   "execution_count": 10,
   "metadata": {},
   "outputs": [
    {
     "ename": "AttributeError",
     "evalue": "'list' object has no attribute 'split'",
     "output_type": "error",
     "traceback": [
      "\u001b[0;31m---------------------------------------------------------------------------\u001b[0m",
      "\u001b[0;31mAttributeError\u001b[0m                            Traceback (most recent call last)",
      "\u001b[0;32m<ipython-input-10-731e575f937e>\u001b[0m in \u001b[0;36m<module>\u001b[0;34m()\u001b[0m\n\u001b[0;32m----> 1\u001b[0;31m \u001b[0;32mif\u001b[0m \u001b[0;34m'Ace'\u001b[0m \u001b[0;32min\u001b[0m \u001b[0mdealer_cards\u001b[0m\u001b[0;34m.\u001b[0m\u001b[0msplit\u001b[0m\u001b[0;34m(\u001b[0m\u001b[0;34m)\u001b[0m\u001b[0;34m:\u001b[0m\u001b[0;34m\u001b[0m\u001b[0m\n\u001b[0m\u001b[1;32m      2\u001b[0m                \u001b[0;32mprint\u001b[0m\u001b[0;34m(\u001b[0m\u001b[0;34m\"Right\"\u001b[0m\u001b[0;34m)\u001b[0m\u001b[0;34m\u001b[0m\u001b[0m\n",
      "\u001b[0;31mAttributeError\u001b[0m: 'list' object has no attribute 'split'"
     ]
    }
   ],
   "source": [
    " if 'Ace' in dealer_cards.split():\n",
    "                print(\"Right\")"
   ]
  },
  {
   "cell_type": "code",
   "execution_count": 13,
   "metadata": {},
   "outputs": [],
   "source": [
    "dealer_cards=[]"
   ]
  },
  {
   "cell_type": "code",
   "execution_count": 14,
   "metadata": {},
   "outputs": [
    {
     "data": {
      "text/plain": [
       "list"
      ]
     },
     "execution_count": 14,
     "metadata": {},
     "output_type": "execute_result"
    }
   ],
   "source": [
    "type(dealer_cards)"
   ]
  },
  {
   "cell_type": "code",
   "execution_count": 30,
   "metadata": {},
   "outputs": [
    {
     "name": "stdout",
     "output_type": "stream",
     "text": [
      "Would you like to Hit or Stand:HIT\n"
     ]
    },
    {
     "data": {
      "text/plain": [
       "False"
      ]
     },
     "execution_count": 30,
     "metadata": {},
     "output_type": "execute_result"
    }
   ],
   "source": [
    "hit_or_stand=raw_input(\"Would you like to Hit or Stand:\").lower()\n",
    "if hit_or_stand=='hit':\n",
    "    card=random.choice(temp_cards)\n",
    "    player_cards.append(card)\n",
    "elif hit_or_stand=='stand':\n",
    "    print(\"Your current cards are:\\n%s\\n%s\"%(player_cards[0],player))"
   ]
  },
  {
   "cell_type": "code",
   "execution_count": null,
   "metadata": {},
   "outputs": [],
   "source": []
  }
 ],
 "metadata": {
  "kernelspec": {
   "display_name": "Python 2",
   "language": "python",
   "name": "python2"
  },
  "language_info": {
   "codemirror_mode": {
    "name": "ipython",
    "version": 2
   },
   "file_extension": ".py",
   "mimetype": "text/x-python",
   "name": "python",
   "nbconvert_exporter": "python",
   "pygments_lexer": "ipython2",
   "version": "2.7.17"
  }
 },
 "nbformat": 4,
 "nbformat_minor": 2
}
