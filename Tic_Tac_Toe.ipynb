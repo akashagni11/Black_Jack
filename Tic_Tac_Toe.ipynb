{
 "cells": [
  {
   "cell_type": "code",
   "execution_count": 1,
   "metadata": {},
   "outputs": [],
   "source": [
    "#imports\n",
    "from __future__ import print_function\n",
    "from IPython.display import clear_output\n"
   ]
  },
  {
   "cell_type": "code",
   "execution_count": 26,
   "metadata": {},
   "outputs": [],
   "source": [
    "def p1_choice():\n",
    "    \n",
    "    print(\"Player 1, choose either 'X' or 'O'\")\n",
    "    p1_choice=raw_input(\"Player 1 has chosen: \")\n",
    "    if not (p1_choice==\"X\" or p1_choice==\"O\"):\n",
    "        print(\"Invalid\")\n",
    "    choice=p1_choice\n",
    "    return choice"
   ]
  },
  {
   "cell_type": "code",
   "execution_count": 3,
   "metadata": {},
   "outputs": [],
   "source": [
    "def first():\n",
    "    first_chance=raw_input(\"Which player will start off?? Player 1 or Player 2:\\n\")\n",
    "    if not (first_chance==\"Player 1\" or first_chance==\"Player 2\"):\n",
    "        print(\"Inavlid\\n\")\n",
    "    else:\n",
    "        print(\"%s will begin the game\\n\"%first_chance)\n",
    "        chance=first_chance\n",
    "        return chance"
   ]
  },
  {
   "cell_type": "code",
   "execution_count": 4,
   "metadata": {},
   "outputs": [],
   "source": [
    "def position_rep():\n",
    "    print(\"This is a sample representing the positions\\n\\n\")\n",
    "    x=1\n",
    "    for i in range(3):\n",
    "        print(x,end=\"\\t\")\n",
    "        #print(\"|\",end=\"\\t\")\n",
    "        print(x+1,end=\"\\t\")\n",
    "        #print(\"|\",end=\"\\t\")\n",
    "        print(x+2,end=\"\")\n",
    "        print(\"\\n\")\n",
    "        x=x+3"
   ]
  },
  {
   "cell_type": "code",
   "execution_count": 32,
   "metadata": {},
   "outputs": [],
   "source": [
    "def input_preprocess(first,p1_choice):\n",
    "    global marker\n",
    "    print(\"I've declared global marker here\")\n",
    "    if p1_choice==\"X\":\n",
    "        p2_choice=\"O\"\n",
    "    else:\n",
    "        p2_choice=\"X\"\n",
    "    if first==\"Player 1\":\n",
    "        marker=p1_choice\n",
    "    else:\n",
    "        marker=p2_choice\n",
    "    return marker"
   ]
  },
  {
   "cell_type": "code",
   "execution_count": 6,
   "metadata": {},
   "outputs": [],
   "source": [
    "def posn():\n",
    "    global position\n",
    "    print(\"%s's turn\\n\"%chance)\n",
    "    print(\"Please input the position you wish to assign:\", end=\"\")\n",
    "    position=raw_input()\n",
    "    position=int(position)\n",
    "    if not (position<=9 and position>0):\n",
    "        print(\"Invalid Input\")\n",
    "    "
   ]
  },
  {
   "cell_type": "code",
   "execution_count": 7,
   "metadata": {},
   "outputs": [],
   "source": [
    "def display_board(board):\n",
    "    x=0\n",
    "    for i in range(3):\n",
    "        print(board[x],end=\"\\t\")\n",
    "        print(board[x+1],end=\"\\t\")\n",
    "        print(board[x+2],end=\"\")\n",
    "        print(\"\\n\")\n",
    "        x=x+3"
   ]
  },
  {
   "cell_type": "code",
   "execution_count": 28,
   "metadata": {},
   "outputs": [],
   "source": [
    "#####Declerations\n",
    "choice=0\n",
    "chance=0\n",
    "marker=0\n",
    "total_chances=0\n",
    "position=0\n",
    "board=list(['','','','','','','','',''])"
   ]
  },
  {
   "cell_type": "code",
   "execution_count": 29,
   "metadata": {
    "scrolled": true
   },
   "outputs": [
    {
     "name": "stdout",
     "output_type": "stream",
     "text": [
      "Player 1, choose either 'X' or 'O'\n",
      "Player 1 has chosen: X\n",
      "Which player will start off?? Player 1 or Player 2:Player 1\n",
      "Player 1 will begin the game\n",
      "\n",
      "This is a sample representing the positions\n",
      "\n",
      "\n",
      "1\t2\t3\n",
      "\n",
      "4\t5\t6\n",
      "\n",
      "7\t8\t9\n",
      "\n"
     ]
    }
   ],
   "source": [
    "#####\n",
    "print(\"Player 1, choose either 'X' or 'O'\")\n",
    "p1_choice=raw_input(\"Player 1 has chosen: \")\n",
    "if not (p1_choice==\"X\" or p1_choice==\"O\"):\n",
    "    print(\"Invalid\")\n",
    "choice=p1_choice\n",
    "#choice=p1_choice\n",
    "#first()\n",
    "first_chance=raw_input(\"Which player will start off?? Player 1 or Player 2:\")\n",
    "if not (first_chance==\"Player 1\" or first_chance==\"Player 2\"):\n",
    "    print(\"Inavlid\\n\")\n",
    "else:\n",
    "    print(\"%s will begin the game\\n\"%first_chance)\n",
    "    chance=first_chance\n",
    "#chance=first_chance\n",
    "input_preprocess(chance,choice)\n",
    "position_rep()\n",
    "#print(marker)"
   ]
  },
  {
   "cell_type": "code",
   "execution_count": 30,
   "metadata": {},
   "outputs": [
    {
     "name": "stdout",
     "output_type": "stream",
     "text": [
      "X\n",
      "Player 1's turn\n",
      "\n",
      "Please input the position you wish to assign:1\n",
      "X\t\t\n",
      "\n",
      "\t\t\n",
      "\n",
      "\t\t\n",
      "\n",
      "X Marker after switch\n",
      "Player 1's turn\n",
      "\n",
      "Please input the position you wish to assign:4\n",
      "X\t\t\n",
      "\n",
      "X\t\t\n",
      "\n",
      "\t\t\n",
      "\n",
      "X Marker after switch\n",
      "Player 1's turn\n",
      "\n",
      "Please input the position you wish to assign:"
     ]
    },
    {
     "ename": "KeyboardInterrupt",
     "evalue": "",
     "output_type": "error",
     "traceback": [
      "\u001b[0;31m---------------------------------------------------------------------------\u001b[0m",
      "\u001b[0;31mKeyboardInterrupt\u001b[0m                         Traceback (most recent call last)",
      "\u001b[0;32m<ipython-input-30-b7dec62268c4>\u001b[0m in \u001b[0;36m<module>\u001b[0;34m()\u001b[0m\n\u001b[1;32m      4\u001b[0m     \u001b[0;32mprint\u001b[0m\u001b[0;34m(\u001b[0m\u001b[0;34m\"%s's turn\\n\"\u001b[0m\u001b[0;34m%\u001b[0m\u001b[0mchance\u001b[0m\u001b[0;34m)\u001b[0m\u001b[0;34m\u001b[0m\u001b[0m\n\u001b[1;32m      5\u001b[0m     \u001b[0;32mprint\u001b[0m\u001b[0;34m(\u001b[0m\u001b[0;34m\"Please input the position you wish to assign:\"\u001b[0m\u001b[0;34m,\u001b[0m \u001b[0mend\u001b[0m\u001b[0;34m=\u001b[0m\u001b[0;34m\"\"\u001b[0m\u001b[0;34m)\u001b[0m\u001b[0;34m\u001b[0m\u001b[0m\n\u001b[0;32m----> 6\u001b[0;31m     \u001b[0mposition\u001b[0m\u001b[0;34m=\u001b[0m\u001b[0mraw_input\u001b[0m\u001b[0;34m(\u001b[0m\u001b[0;34m)\u001b[0m\u001b[0;34m\u001b[0m\u001b[0m\n\u001b[0m\u001b[1;32m      7\u001b[0m     \u001b[0mposition\u001b[0m\u001b[0;34m=\u001b[0m\u001b[0mint\u001b[0m\u001b[0;34m(\u001b[0m\u001b[0mposition\u001b[0m\u001b[0;34m)\u001b[0m\u001b[0;34m\u001b[0m\u001b[0m\n\u001b[1;32m      8\u001b[0m     \u001b[0;32mif\u001b[0m \u001b[0;32mnot\u001b[0m \u001b[0;34m(\u001b[0m\u001b[0mposition\u001b[0m\u001b[0;34m<=\u001b[0m\u001b[0;36m9\u001b[0m \u001b[0;32mand\u001b[0m \u001b[0mposition\u001b[0m\u001b[0;34m>\u001b[0m\u001b[0;36m0\u001b[0m\u001b[0;34m)\u001b[0m\u001b[0;34m:\u001b[0m\u001b[0;34m\u001b[0m\u001b[0m\n",
      "\u001b[0;32m/home/skyay/.local/lib/python2.7/site-packages/ipykernel/kernelbase.pyc\u001b[0m in \u001b[0;36mraw_input\u001b[0;34m(self, prompt)\u001b[0m\n\u001b[1;32m    702\u001b[0m             \u001b[0mself\u001b[0m\u001b[0;34m.\u001b[0m\u001b[0m_parent_ident\u001b[0m\u001b[0;34m,\u001b[0m\u001b[0;34m\u001b[0m\u001b[0m\n\u001b[1;32m    703\u001b[0m             \u001b[0mself\u001b[0m\u001b[0;34m.\u001b[0m\u001b[0m_parent_header\u001b[0m\u001b[0;34m,\u001b[0m\u001b[0;34m\u001b[0m\u001b[0m\n\u001b[0;32m--> 704\u001b[0;31m             \u001b[0mpassword\u001b[0m\u001b[0;34m=\u001b[0m\u001b[0mFalse\u001b[0m\u001b[0;34m,\u001b[0m\u001b[0;34m\u001b[0m\u001b[0m\n\u001b[0m\u001b[1;32m    705\u001b[0m         )\n\u001b[1;32m    706\u001b[0m \u001b[0;34m\u001b[0m\u001b[0m\n",
      "\u001b[0;32m/home/skyay/.local/lib/python2.7/site-packages/ipykernel/kernelbase.pyc\u001b[0m in \u001b[0;36m_input_request\u001b[0;34m(self, prompt, ident, parent, password)\u001b[0m\n\u001b[1;32m    732\u001b[0m             \u001b[0;32mexcept\u001b[0m \u001b[0mKeyboardInterrupt\u001b[0m\u001b[0;34m:\u001b[0m\u001b[0;34m\u001b[0m\u001b[0m\n\u001b[1;32m    733\u001b[0m                 \u001b[0;31m# re-raise KeyboardInterrupt, to truncate traceback\u001b[0m\u001b[0;34m\u001b[0m\u001b[0;34m\u001b[0m\u001b[0m\n\u001b[0;32m--> 734\u001b[0;31m                 \u001b[0;32mraise\u001b[0m \u001b[0mKeyboardInterrupt\u001b[0m\u001b[0;34m\u001b[0m\u001b[0m\n\u001b[0m\u001b[1;32m    735\u001b[0m             \u001b[0;32melse\u001b[0m\u001b[0;34m:\u001b[0m\u001b[0;34m\u001b[0m\u001b[0m\n\u001b[1;32m    736\u001b[0m                 \u001b[0;32mbreak\u001b[0m\u001b[0;34m\u001b[0m\u001b[0m\n",
      "\u001b[0;31mKeyboardInterrupt\u001b[0m: "
     ]
    }
   ],
   "source": [
    "#print(marker)\n",
    "#posn()\n",
    "while(total_chances<=len(board)):\n",
    "    print(\"%s's turn\\n\"%chance)\n",
    "    print(\"Please input the position you wish to assign:\", end=\"\")\n",
    "    position=raw_input()\n",
    "    position=int(position)\n",
    "    if not (position<=9 and position>0):\n",
    "        print(\"Invalid Input\")\n",
    "    board[position-1]=marker\n",
    "    #print(board)\n",
    "    display_board(board)\n",
    "    total_chances=total_chances+1\n",
    "    #print(total_chances)\n",
    "    #switch(marker,chance)\n",
    "    if (board[0:3]==marker or board[3:6]==marker or board[6:9]==marker):\n",
    "        print(\"%s has won the Tic Tac Toe. Yay!!\"%chance)\n",
    "        break\n",
    "    elif (board[0]==marker and board[3]==marker and board[6]==marker) or (board[1]==marker and board[4]==marker and board[7]==marker):\n",
    "        print(\"%s has won the Tic Tac Toe. Yay!!\"%chance)\n",
    "        break\n",
    "    elif (board[2]==marker and board[5]==marker and board[8]==marker) or (board[0]==marker and board[4]==marker and board[8]==marker):\n",
    "        print(\"%s has won the Tic Tac Toe. Yay!!\"%chance)\n",
    "        break\n",
    "    elif (board[2]==marker and board[4]==marker and board[6]==marker):   \n",
    "        print(\"%s has won the Tic Tac Toe. Yay!!\"%chance)\n",
    "        break\n",
    "    elif (total_chances==len(board)):\n",
    "        print(\"Game Over, It's a Draw\")\n",
    "        break\n",
    "    print(marker,\"Marker before switch\")\n",
    "    switch(marker,chance)\n",
    "    print(marker,\"Marker after switch\")\n",
    "    \n",
    "    #reset=raw_input(\"Do You wish to restart:\")\n",
    "    #print(marker,chance)\n",
    "#restart=raw_input(\"Do you wish to play again?? \")\n",
    "#if restart==\"yes\":"
   ]
  },
  {
   "cell_type": "code",
   "execution_count": 31,
   "metadata": {},
   "outputs": [],
   "source": [
    "def switch(marker,chance):\n",
    "    if marker==\"X\":\n",
    "        #print(\"Yess\")\n",
    "        marker=\"O\"\n",
    "        print(marker,\"Marker in switch\")\n",
    "    else:\n",
    "        marker=\"X\"\n",
    "        print(marker)\n",
    "    if chance==\"Player 1\":\n",
    "        chance=\"Player 2\"\n",
    "    else:\n",
    "        chance=\"Player 1\""
   ]
  },
  {
   "cell_type": "code",
   "execution_count": null,
   "metadata": {},
   "outputs": [],
   "source": []
  }
 ],
 "metadata": {
  "kernelspec": {
   "display_name": "Python 2",
   "language": "python",
   "name": "python2"
  },
  "language_info": {
   "codemirror_mode": {
    "name": "ipython",
    "version": 2
   },
   "file_extension": ".py",
   "mimetype": "text/x-python",
   "name": "python",
   "nbconvert_exporter": "python",
   "pygments_lexer": "ipython2",
   "version": "2.7.17"
  }
 },
 "nbformat": 4,
 "nbformat_minor": 2
}
